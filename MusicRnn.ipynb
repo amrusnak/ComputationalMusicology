{
  "nbformat": 4,
  "nbformat_minor": 0,
  "metadata": {
    "colab": {
      "name": "MusicRnn.ipynb",
      "provenance": []
    },
    "kernelspec": {
      "name": "python3",
      "display_name": "Python 3"
    },
    "accelerator": "GPU"
  },
  "cells": [
    {
      "cell_type": "code",
      "metadata": {
        "id": "UiUzg45_ZJc4",
        "colab_type": "code",
        "colab": {
          "base_uri": "https://localhost:8080/",
          "height": 555
        },
        "outputId": "e9d5fa58-4361-48d4-b90c-17b4eb8ce9b6"
      },
      "source": [
        "import tensorflow as tf \n",
        "import numpy as np\n",
        "import os\n",
        "import pandas as pd\n",
        "import time\n",
        "from os import listdir\n",
        "import functools\n",
        "import pickle\n",
        "import math\n",
        "from IPython import display as ipythondisplay\n",
        "from tqdm import tqdm\n",
        "\n",
        "from tensorflow.python.client import device_lib \n",
        "print(device_lib.list_local_devices())"
      ],
      "execution_count": null,
      "outputs": [
        {
          "output_type": "stream",
          "text": [
            "[name: \"/device:CPU:0\"\n",
            "device_type: \"CPU\"\n",
            "memory_limit: 268435456\n",
            "locality {\n",
            "}\n",
            "incarnation: 4775819674730741877\n",
            ", name: \"/device:XLA_CPU:0\"\n",
            "device_type: \"XLA_CPU\"\n",
            "memory_limit: 17179869184\n",
            "locality {\n",
            "}\n",
            "incarnation: 5824541131957901818\n",
            "physical_device_desc: \"device: XLA_CPU device\"\n",
            ", name: \"/device:XLA_GPU:0\"\n",
            "device_type: \"XLA_GPU\"\n",
            "memory_limit: 17179869184\n",
            "locality {\n",
            "}\n",
            "incarnation: 15727479690101278927\n",
            "physical_device_desc: \"device: XLA_GPU device\"\n",
            ", name: \"/device:GPU:0\"\n",
            "device_type: \"GPU\"\n",
            "memory_limit: 15701463552\n",
            "locality {\n",
            "  bus_id: 1\n",
            "  links {\n",
            "  }\n",
            "}\n",
            "incarnation: 1126873379061130296\n",
            "physical_device_desc: \"device: 0, name: Tesla P100-PCIE-16GB, pci bus id: 0000:00:04.0, compute capability: 6.0\"\n",
            "]\n"
          ],
          "name": "stdout"
        }
      ]
    },
    {
      "cell_type": "code",
      "metadata": {
        "id": "190UsM4dZTyw",
        "colab_type": "code",
        "colab": {}
      },
      "source": [
        "import subprocess\n",
        "import regex as re\n",
        "\n",
        "import matplotlib.pyplot as plt\n",
        "from IPython import display as ipythondisplay\n",
        "\n",
        "\n",
        "from IPython.display import Audio\n",
        "from string import Formatter\n",
        "\n",
        "\n",
        "\n",
        "\n",
        "\n",
        "def display_model(model):\n",
        "  tf.keras.utils.plot_model(model,\n",
        "             to_file='tmp.png',\n",
        "             show_shapes=True)\n",
        "  return ipythondisplay.Image('tmp.png')\n",
        "\n",
        "\n",
        "def plot_sample(x,y,vae):\n",
        "    plt.figure(figsize=(2,1))\n",
        "    plt.subplot(1, 2, 1)\n",
        "\n",
        "    idx = np.where(y==1)[0][0]\n",
        "    plt.imshow(x[idx])\n",
        "    plt.grid(False)\n",
        "\n",
        "    plt.subplot(1, 2, 2)\n",
        "    _, _, _, recon = vae(x)\n",
        "    recon = np.clip(recon, 0, 1)\n",
        "    plt.imshow(recon[idx])\n",
        "    plt.grid(False)\n",
        "\n",
        "    plt.show()\n",
        "\n",
        "\n",
        "\n",
        "class LossHistory:\n",
        "  def __init__(self, smoothing_factor=0.0):\n",
        "    self.alpha = smoothing_factor\n",
        "    self.loss = []\n",
        "  def append(self, value):\n",
        "    self.loss.append( self.alpha*self.loss[-1] + (1-self.alpha)*value if len(self.loss)>0 else value )\n",
        "  def get(self):\n",
        "    return self.loss\n",
        "\n",
        "class PeriodicPlotter:\n",
        "  def __init__(self, sec, xlabel='', ylabel='', scale=None):\n",
        "\n",
        "    self.xlabel = xlabel\n",
        "    self.ylabel = ylabel\n",
        "    self.sec = sec\n",
        "    self.scale = scale\n",
        "\n",
        "    self.tic = time.time()\n",
        "\n",
        "  def plot(self, data):\n",
        "    if time.time() - self.tic > self.sec:\n",
        "      plt.cla()\n",
        "\n",
        "      if self.scale is None:\n",
        "        plt.plot(data)\n",
        "      elif self.scale == 'semilogx':\n",
        "        plt.semilogx(data)\n",
        "      elif self.scale == 'semilogy':\n",
        "        plt.semilogy(data)\n",
        "      elif self.scale == 'loglog':\n",
        "        plt.loglog(data)\n",
        "      else:\n",
        "        raise ValueError(\"unrecognized parameter scale {}\".format(self.scale))\n",
        "\n",
        "      plt.xlabel(self.xlabel); plt.ylabel(self.ylabel)\n",
        "      ipythondisplay.clear_output(wait=True)\n",
        "      ipythondisplay.display(plt.gcf())\n",
        "\n",
        "      self.tic = time.time()\n",
        "        \n",
        "cwd = os.getcwd()\n",
        "\n"
      ],
      "execution_count": null,
      "outputs": []
    },
    {
      "cell_type": "code",
      "metadata": {
        "id": "FabhsyXEZavH",
        "colab_type": "code",
        "colab": {}
      },
      "source": [
        "def LSTM(rnn_units): \n",
        "  return tf.keras.layers.LSTM(\n",
        "    rnn_units, \n",
        "    return_sequences=True, \n",
        "    recurrent_initializer='glorot_uniform',\n",
        "    recurrent_activation='sigmoid',\n",
        "    stateful=True,\n",
        "  )"
      ],
      "execution_count": null,
      "outputs": []
    },
    {
      "cell_type": "code",
      "metadata": {
        "id": "P2kYlXdwZnmd",
        "colab_type": "code",
        "colab": {}
      },
      "source": [
        "def build_model(vocab_size, embedding_dim, rnn_units, batch_size):\n",
        "   \n",
        "  model = tf.keras.Sequential([\n",
        "   \n",
        "    tf.keras.layers.Embedding(vocab_size, embedding_dim, batch_input_shape=[batch_size, None]),\n",
        "\n",
        "    \n",
        "   LSTM(rnn_units), \n",
        "    \n",
        "    tf.keras.layers.Dense(vocab_size)\n",
        "    \n",
        "  ])\n",
        "\n",
        "  return model\n"
      ],
      "execution_count": null,
      "outputs": []
    },
    {
      "cell_type": "code",
      "metadata": {
        "id": "ryTPfNe4Zpe-",
        "colab_type": "code",
        "colab": {}
      },
      "source": [
        "def compute_loss(labels, logits):\n",
        "  loss = tf.keras.losses.sparse_categorical_crossentropy(labels, logits, from_logits=True)\n",
        "  return loss\n"
      ],
      "execution_count": null,
      "outputs": []
    },
    {
      "cell_type": "code",
      "metadata": {
        "id": "lYlSd3AHZrkf",
        "colab_type": "code",
        "colab": {
          "base_uri": "https://localhost:8080/",
          "height": 424
        },
        "outputId": "0757c90f-0b5f-4711-918a-60c061a43ab4"
      },
      "source": [
        "# for House music change 'balladArr.pkl' to houseArr.pkl (and also change the path to where you put it in your google drive), for poprock it is poprockArr.pkl\n",
        "infile = open('/content/drive/My Drive/MusicData/balladArr.pkl','rb')\n",
        "#likewise, change the name ballad here to house or poprock\n",
        "ballad = pickle.load(infile)\n",
        "infile.close()\n",
        "ballad"
      ],
      "execution_count": null,
      "outputs": [
        {
          "output_type": "execute_result",
          "data": {
            "text/html": [
              "<div>\n",
              "<style scoped>\n",
              "    .dataframe tbody tr th:only-of-type {\n",
              "        vertical-align: middle;\n",
              "    }\n",
              "\n",
              "    .dataframe tbody tr th {\n",
              "        vertical-align: top;\n",
              "    }\n",
              "\n",
              "    .dataframe thead th {\n",
              "        text-align: right;\n",
              "    }\n",
              "</style>\n",
              "<table border=\"1\" class=\"dataframe\">\n",
              "  <thead>\n",
              "    <tr style=\"text-align: right;\">\n",
              "      <th></th>\n",
              "      <th>0</th>\n",
              "      <th>1</th>\n",
              "      <th>2</th>\n",
              "      <th>3</th>\n",
              "    </tr>\n",
              "  </thead>\n",
              "  <tbody>\n",
              "    <tr>\n",
              "      <th>0</th>\n",
              "      <td>0          1   2    3\n",
              "0     0.076...</td>\n",
              "      <td>0          1   2    3\n",
              "0     0.076...</td>\n",
              "      <td>0          1   2    3\n",
              "0    0.07616...</td>\n",
              "      <td>0          1   2    3\n",
              "0    0.31393...</td>\n",
              "    </tr>\n",
              "    <tr>\n",
              "      <th>1</th>\n",
              "      <td>0          1   2    3\n",
              "0    0.40344...</td>\n",
              "      <td>0          1   2   3\n",
              "0     0.1277...</td>\n",
              "      <td>0          1   2   3\n",
              "0    0.678303...</td>\n",
              "      <td>0          1   2    3\n",
              "0    0.95346...</td>\n",
              "    </tr>\n",
              "    <tr>\n",
              "      <th>2</th>\n",
              "      <td>0          1   2   3\n",
              "0     0.0663...</td>\n",
              "      <td>0          1   2   3\n",
              "0     1.9372...</td>\n",
              "      <td>0          1   2   3\n",
              "0     0.0663...</td>\n",
              "      <td>0          1   2    3\n",
              "0    1.93720...</td>\n",
              "    </tr>\n",
              "    <tr>\n",
              "      <th>3</th>\n",
              "      <td>0          1   2    3\n",
              "0     0.046...</td>\n",
              "      <td>0          1   2   3\n",
              "0    0.917187...</td>\n",
              "      <td>0          1   2   3\n",
              "0    15.0398...</td>\n",
              "      <td>0          1   2    3\n",
              "0    0.05224...</td>\n",
              "    </tr>\n",
              "    <tr>\n",
              "      <th>4</th>\n",
              "      <td>0          1   2   3\n",
              "0     0.3419...</td>\n",
              "      <td>0          1   2   3\n",
              "0     0.3757...</td>\n",
              "      <td>0          1   2   3\n",
              "0     0.3715...</td>\n",
              "      <td>0          1   2   3\n",
              "0    0.341966...</td>\n",
              "    </tr>\n",
              "    <tr>\n",
              "      <th>...</th>\n",
              "      <td>...</td>\n",
              "      <td>...</td>\n",
              "      <td>...</td>\n",
              "      <td>...</td>\n",
              "    </tr>\n",
              "    <tr>\n",
              "      <th>7050</th>\n",
              "      <td>0          1   2    3\n",
              "0     0.069...</td>\n",
              "      <td>0          1   2    3\n",
              "0   3.078961 ...</td>\n",
              "      <td>0          1   2    3\n",
              "0   3.016988 ...</td>\n",
              "      <td>0          1   2    3\n",
              "0    0.07585...</td>\n",
              "    </tr>\n",
              "    <tr>\n",
              "      <th>7051</th>\n",
              "      <td>0          1   2    3\n",
              "0     0.213...</td>\n",
              "      <td>0          1   2   3\n",
              "0    0.050538...</td>\n",
              "      <td>0          1   2    3\n",
              "0    1.87535...</td>\n",
              "      <td>0          1   2   3\n",
              "0    0.213077...</td>\n",
              "    </tr>\n",
              "    <tr>\n",
              "      <th>7052</th>\n",
              "      <td>0          1   2    3\n",
              "0     0.325...</td>\n",
              "      <td>0          1   2   3\n",
              "0     0.0232...</td>\n",
              "      <td>0          1   2   3\n",
              "0    0.023220...</td>\n",
              "      <td>0          1   2   3\n",
              "0    0.325079...</td>\n",
              "    </tr>\n",
              "    <tr>\n",
              "      <th>7053</th>\n",
              "      <td>0          1   2    3\n",
              "0     0.007...</td>\n",
              "      <td>0          1   2   3\n",
              "0    0.775995...</td>\n",
              "      <td>0          1   2   3\n",
              "0     0.0074...</td>\n",
              "      <td>0          1   2    3\n",
              "0    0.19924...</td>\n",
              "    </tr>\n",
              "    <tr>\n",
              "      <th>7054</th>\n",
              "      <td>0          1   2    3\n",
              "0     0.038...</td>\n",
              "      <td>0          1   2   3\n",
              "0     0.0387...</td>\n",
              "      <td>0          1   2    3\n",
              "0    0.08216...</td>\n",
              "      <td>0          1   2   3\n",
              "0    0.038700...</td>\n",
              "    </tr>\n",
              "  </tbody>\n",
              "</table>\n",
              "<p>7055 rows × 4 columns</p>\n",
              "</div>"
            ],
            "text/plain": [
              "                                                      0  ...                                                  3\n",
              "0                  0          1   2    3\n",
              "0     0.076...  ...              0          1   2    3\n",
              "0    0.31393...\n",
              "1                 0          1   2    3\n",
              "0    0.40344...  ...              0          1   2    3\n",
              "0    0.95346...\n",
              "2                  0          1   2   3\n",
              "0     0.0663...  ...              0          1   2    3\n",
              "0    1.93720...\n",
              "3                  0          1   2    3\n",
              "0     0.046...  ...              0          1   2    3\n",
              "0    0.05224...\n",
              "4                  0          1   2   3\n",
              "0     0.3419...  ...              0          1   2   3\n",
              "0    0.341966...\n",
              "...                                                 ...  ...                                                ...\n",
              "7050               0          1   2    3\n",
              "0     0.069...  ...              0          1   2    3\n",
              "0    0.07585...\n",
              "7051               0          1   2    3\n",
              "0     0.213...  ...              0          1   2   3\n",
              "0    0.213077...\n",
              "7052               0          1   2    3\n",
              "0     0.325...  ...              0          1   2   3\n",
              "0    0.325079...\n",
              "7053               0          1   2    3\n",
              "0     0.007...  ...              0          1   2    3\n",
              "0    0.19924...\n",
              "7054               0          1   2    3\n",
              "0     0.038...  ...              0          1   2   3\n",
              "0    0.038700...\n",
              "\n",
              "[7055 rows x 4 columns]"
            ]
          },
          "metadata": {
            "tags": []
          },
          "execution_count": 9
        }
      ]
    },
    {
      "cell_type": "code",
      "metadata": {
        "id": "JXMqaXhG5qK1",
        "colab_type": "code",
        "colab": {
          "base_uri": "https://localhost:8080/",
          "height": 424
        },
        "outputId": "cbcd44a4-ec1d-4463-e46d-5445f80951dd"
      },
      "source": [
        "ballad = ballad.reindex(np.random.permutation(ballad.index))\n",
        "testSize = int(len(ballad) * .15)\n",
        "testSet = ballad[:testSize].reset_index(drop=True)\n",
        "ballad = ballad[testSize:].reset_index(drop=True)\n",
        "ballad"
      ],
      "execution_count": null,
      "outputs": [
        {
          "output_type": "execute_result",
          "data": {
            "text/html": [
              "<div>\n",
              "<style scoped>\n",
              "    .dataframe tbody tr th:only-of-type {\n",
              "        vertical-align: middle;\n",
              "    }\n",
              "\n",
              "    .dataframe tbody tr th {\n",
              "        vertical-align: top;\n",
              "    }\n",
              "\n",
              "    .dataframe thead th {\n",
              "        text-align: right;\n",
              "    }\n",
              "</style>\n",
              "<table border=\"1\" class=\"dataframe\">\n",
              "  <thead>\n",
              "    <tr style=\"text-align: right;\">\n",
              "      <th></th>\n",
              "      <th>0</th>\n",
              "      <th>1</th>\n",
              "      <th>2</th>\n",
              "      <th>3</th>\n",
              "    </tr>\n",
              "  </thead>\n",
              "  <tbody>\n",
              "    <tr>\n",
              "      <th>0</th>\n",
              "      <td>0          1   2    3\n",
              "0     0.510...</td>\n",
              "      <td>0          1   2    3\n",
              "0     0.743...</td>\n",
              "      <td>0          1   2    3\n",
              "0     0.743...</td>\n",
              "      <td>0          1   2    3\n",
              "0    0.74303...</td>\n",
              "    </tr>\n",
              "    <tr>\n",
              "      <th>1</th>\n",
              "      <td>0          1   2   3\n",
              "0     0.0541...</td>\n",
              "      <td>0          1   2   3\n",
              "0   3.088252  ...</td>\n",
              "      <td>0          1   2   3\n",
              "0     0.0541...</td>\n",
              "      <td>0          1   2   3\n",
              "0    0.054180...</td>\n",
              "    </tr>\n",
              "    <tr>\n",
              "      <th>2</th>\n",
              "      <td>0          1   2    3\n",
              "0     0.012...</td>\n",
              "      <td>0          1   2   3\n",
              "0     0.3328...</td>\n",
              "      <td>0          1   2   3\n",
              "0     0.0126...</td>\n",
              "      <td>0          1   2    3\n",
              "0     0.012...</td>\n",
              "    </tr>\n",
              "    <tr>\n",
              "      <th>3</th>\n",
              "      <td>0          1   2   3\n",
              "0     0.0476...</td>\n",
              "      <td>0          1   2    3\n",
              "0    0.04167...</td>\n",
              "      <td>0          1   2    3\n",
              "0     0.068...</td>\n",
              "      <td>0          1   2    3\n",
              "0    0.22853...</td>\n",
              "    </tr>\n",
              "    <tr>\n",
              "      <th>4</th>\n",
              "      <td>0          1   2    3\n",
              "0    0.33281...</td>\n",
              "      <td>0          1   2    3\n",
              "0    1.23220...</td>\n",
              "      <td>0          1   2    3\n",
              "0   8.825169 ...</td>\n",
              "      <td>0          1   2    3\n",
              "0    0.63313...</td>\n",
              "    </tr>\n",
              "    <tr>\n",
              "      <th>...</th>\n",
              "      <td>...</td>\n",
              "      <td>...</td>\n",
              "      <td>...</td>\n",
              "      <td>...</td>\n",
              "    </tr>\n",
              "    <tr>\n",
              "      <th>5992</th>\n",
              "      <td>0          1   2   3\n",
              "0     0.0154...</td>\n",
              "      <td>0          1   2   3\n",
              "0    16.9853...</td>\n",
              "      <td>0          1   2   3\n",
              "0     0.0247...</td>\n",
              "      <td>0          1   2    3\n",
              "0    0.59752...</td>\n",
              "    </tr>\n",
              "    <tr>\n",
              "      <th>5993</th>\n",
              "      <td>0          1   2   3\n",
              "0     0.0571...</td>\n",
              "      <td>0          1   2   3\n",
              "0     0.0571...</td>\n",
              "      <td>0          1   2   3\n",
              "0     0.0571...</td>\n",
              "      <td>0          1   2    3\n",
              "0    0.27863...</td>\n",
              "    </tr>\n",
              "    <tr>\n",
              "      <th>5994</th>\n",
              "      <td>0          1   2    3\n",
              "0     0.078...</td>\n",
              "      <td>0          1   2  3\n",
              "0   22.437240 ...</td>\n",
              "      <td>0          1   2    3\n",
              "0     4.621...</td>\n",
              "      <td>0          1   2    3\n",
              "0     0.078...</td>\n",
              "    </tr>\n",
              "    <tr>\n",
              "      <th>5995</th>\n",
              "      <td>0          1   2    3\n",
              "0     1.394...</td>\n",
              "      <td>0          1   2    3\n",
              "0     0.028...</td>\n",
              "      <td>0          1   2    3\n",
              "0     2.755...</td>\n",
              "      <td>0          1   2    3\n",
              "0    2.41487...</td>\n",
              "    </tr>\n",
              "    <tr>\n",
              "      <th>5996</th>\n",
              "      <td>0          1   2    3\n",
              "0     0.122...</td>\n",
              "      <td>0          1   2    3\n",
              "0     0.122...</td>\n",
              "      <td>0          1   2   3\n",
              "0     0.1226...</td>\n",
              "      <td>0          1   2    3\n",
              "0     0.122...</td>\n",
              "    </tr>\n",
              "  </tbody>\n",
              "</table>\n",
              "<p>5997 rows × 4 columns</p>\n",
              "</div>"
            ],
            "text/plain": [
              "                                                      0  ...                                                  3\n",
              "0                  0          1   2    3\n",
              "0     0.510...  ...              0          1   2    3\n",
              "0    0.74303...\n",
              "1                  0          1   2   3\n",
              "0     0.0541...  ...              0          1   2   3\n",
              "0    0.054180...\n",
              "2                  0          1   2    3\n",
              "0     0.012...  ...               0          1   2    3\n",
              "0     0.012...\n",
              "3                  0          1   2   3\n",
              "0     0.0476...  ...              0          1   2    3\n",
              "0    0.22853...\n",
              "4                 0          1   2    3\n",
              "0    0.33281...  ...              0          1   2    3\n",
              "0    0.63313...\n",
              "...                                                 ...  ...                                                ...\n",
              "5992               0          1   2   3\n",
              "0     0.0154...  ...              0          1   2    3\n",
              "0    0.59752...\n",
              "5993               0          1   2   3\n",
              "0     0.0571...  ...              0          1   2    3\n",
              "0    0.27863...\n",
              "5994               0          1   2    3\n",
              "0     0.078...  ...               0          1   2    3\n",
              "0     0.078...\n",
              "5995               0          1   2    3\n",
              "0     1.394...  ...              0          1   2    3\n",
              "0    2.41487...\n",
              "5996               0          1   2    3\n",
              "0     0.122...  ...               0          1   2    3\n",
              "0     0.122...\n",
              "\n",
              "[5997 rows x 4 columns]"
            ]
          },
          "metadata": {
            "tags": []
          },
          "execution_count": 10
        }
      ]
    },
    {
      "cell_type": "code",
      "metadata": {
        "id": "Pe1YbnCuamQb",
        "colab_type": "code",
        "colab": {}
      },
      "source": [
        "\n",
        "def encode_notes_full(notesArr):\n",
        "    size = math.ceil(notesArr[-1:][1])\n",
        "    sizeF = size*4\n",
        "    mod = sizeF%batchSize\n",
        "    pad = 0\n",
        "    if(mod != 0):\n",
        "         pad = batchSize - mod\n",
        "    encodeNotes =  pd.DataFrame([[0.0]*30]*(sizeF+pad))\n",
        "    length = len(notesArr)\n",
        "    count = 0\n",
        "    partInt=0\n",
        "    for i in range(length):\n",
        "        start = notesArr[0][i]\n",
        "        count = 0\n",
        "        end = notesArr[1][i]\n",
        "        dur = float(end) - float(start)\n",
        "        startInt = int(float(start))\n",
        "        part = float(start) - startInt\n",
        "        index = (startInt)*4\n",
        "        if(part<=0.25):\n",
        "            partInt = 0\n",
        "        elif(0.25<part<=0.5):\n",
        "            partInt = 1\n",
        "        elif(0.5<part<=0.75):\n",
        "            partInt = 2\n",
        "        elif(0.75<part<=1.0):\n",
        "            partInt = 3\n",
        "        #print(partInt)\n",
        "        for j in range(29):\n",
        "            if(encodeNotes[j][index + partInt]==0.0 and encodeNotes[j+1][index + partInt]==0.0 and encodeNotes[j+2][index + partInt]==0.0):\n",
        "                #print('here')\n",
        "                encodeNotes[j][index + partInt] = dur\n",
        "                encodeNotes[j+1][index + partInt] = notesArr[2][i]\n",
        "                encodeNotes[j+2][index + partInt] = notesArr[3][i]\n",
        "                break\n",
        "    return encodeNotes"
      ],
      "execution_count": null,
      "outputs": []
    },
    {
      "cell_type": "code",
      "metadata": {
        "id": "62U8CNcIamol",
        "colab_type": "code",
        "colab": {}
      },
      "source": [
        "def cut_output(y_hat, instrument ):\n",
        "    if(instrument=='drums'):\n",
        "      y_hat = y_hat[:,0:30]\n",
        "    if(instrument=='piano'):\n",
        "      y_hat = y_hat[:,30:60]\n",
        "    if(instrument=='guitar'):\n",
        "      y_hat = y_hat[:,60:90]\n",
        "    if(instrument=='bass'):\n",
        "      y_hat = y_hat[:,90:120]\n",
        "    return y_hat"
      ],
      "execution_count": null,
      "outputs": []
    },
    {
      "cell_type": "code",
      "metadata": {
        "id": "TY_3F_Bgam8r",
        "colab_type": "code",
        "colab": {}
      },
      "source": [
        "modelF = build_model(200, embedding_dim=512, rnn_units=2048, batch_size=60)"
      ],
      "execution_count": null,
      "outputs": []
    },
    {
      "cell_type": "code",
      "metadata": {
        "id": "L3REXk1KanRf",
        "colab_type": "code",
        "colab": {}
      },
      "source": [
        "\n",
        "def get_encoded_song( songNum, instrument):\n",
        "    drums = encode_notes_full(ballad[0][songNum])\n",
        "    piano = encode_notes_full(ballad[1][songNum])\n",
        "    guitar = encode_notes_full(ballad[2][songNum])\n",
        "    bass = encode_notes_full(ballad[3][songNum])\n",
        "    fullSong = pd.concat([drums, piano, guitar, bass], axis=1, sort=False)\n",
        "    fullSong.fillna(0.0, inplace=True)\n",
        "    if(instrument=='drums'):\n",
        "        drums.fillna(0.0, inplace=True)\n",
        "        return fullSong, drums\n",
        "    if(instrument=='piano'):\n",
        "        piano.fillna(0.0, inplace=True)\n",
        "        return fullSong, piano\n",
        "    if(instrument=='guitar'):\n",
        "        guitar.fillna(0.0, inplace=True)\n",
        "        return fullSong, guitar\n",
        "    if(instrument=='bass'):\n",
        "        bass.fillna(0.0, inplace=True)\n",
        "        return fullSong, bass\n",
        "    "
      ],
      "execution_count": null,
      "outputs": []
    },
    {
      "cell_type": "code",
      "metadata": {
        "id": "pPcHqlSAausS",
        "colab_type": "code",
        "colab": {}
      },
      "source": [
        "def get_batchF(encodedNotes, encodedIns1, iteration, batchSize):\n",
        "\n",
        "    idx = int(iteration * batchSize)\n",
        "    input_batch = encodedNotes[idx:(idx+batchSize)].values\n",
        "    output_batch = encodedIns1[(idx+batchSize):(idx+(batchSize*2))].values\n",
        "    output_batch[output_batch > 200] = 200\n",
        "    output_batch[output_batch < 0] = 0\n",
        "    input_batch[input_batch > 200] = 200\n",
        "    input_batch[input_batch < 0] = 0\n",
        "    return input_batch, output_batch"
      ],
      "execution_count": null,
      "outputs": []
    },
    {
      "cell_type": "code",
      "metadata": {
        "id": "bIAWB9ngaw-f",
        "colab_type": "code",
        "colab": {}
      },
      "source": [
        "\n",
        "num_training_iterations = 4*len(ballad)\n",
        "learning_rate = 5e-3 \n",
        "#genreCleaned= house\n",
        "instrument = 'bass'\n",
        "totalSongs = len(ballad)-1\n",
        "batchSize = 60\n",
        "checkpoint_dir = '/content/drive/My Drive/MusicData/balladBass' \n",
        "checkpoint_prefix = os.path.join(checkpoint_dir, \"balladBass\")\n",
        "iteration_restart = 0"
      ],
      "execution_count": null,
      "outputs": []
    },
    {
      "cell_type": "code",
      "metadata": {
        "id": "7AKoxfj1ayxd",
        "colab_type": "code",
        "colab": {}
      },
      "source": [
        ""
      ],
      "execution_count": null,
      "outputs": []
    },
    {
      "cell_type": "code",
      "metadata": {
        "id": "DhJWdoXwa216",
        "colab_type": "code",
        "colab": {
          "base_uri": "https://localhost:8080/",
          "height": 558
        },
        "outputId": "e9f6950a-8cfd-435c-cc6b-6e985e737ad7"
      },
      "source": [
        "optimizer = tf.keras.optimizers.Adam(learning_rate)\n",
        "\n",
        "@tf.function\n",
        "def train_step(x, y): \n",
        "\n",
        "  with tf.GradientTape() as tape:\n",
        "  \n",
        "    y_hat = modelF(x) \n",
        "    y_hat = cut_output(y_hat, instrument)\n",
        "    loss = compute_loss(y, y_hat) \n",
        "\n",
        " \n",
        "  grads = tape.gradient(loss, modelF.trainable_variables) \n",
        "  \n",
        "  optimizer.apply_gradients(zip(grads, modelF.trainable_variables))\n",
        "  return loss\n",
        "\n",
        "history = []\n",
        "plotter = PeriodicPlotter(sec=2, xlabel='Iterations', ylabel='Loss')\n",
        "if hasattr(tqdm, '_instances'): tqdm._instances.clear() \n",
        "for iter in tqdm(range(num_training_iterations)):\n",
        "  if (iteration_restart<=iter):\n",
        "      if (iter>totalSongs):\n",
        "          songNum = iter%totalSongs\n",
        "      else: \n",
        "          songNum = iter\n",
        "      \n",
        "      song, ins = get_encoded_song(songNum, instrument)\n",
        "      \n",
        "      for j in range(int(min((len(song)/batchSize)-1,int((len(ins)/batchSize)-1)))):\n",
        "          print(j)\n",
        "          x_batch, y_batch = get_batchF(song, ins, j, batchSize)\n",
        "          loss = train_step(x_batch, y_batch)\n",
        "          \n",
        "      history.append(loss.numpy().mean())\n",
        "      plotter.plot(history)\n",
        "\n",
        "      if(iter % 100 == 0):     \n",
        "              print('Saved')\n",
        "              modelF.save_weights(checkpoint_prefix)\n",
        "      \n",
        "\n",
        "modelF.save_weights(checkpoint_prefix)"
      ],
      "execution_count": null,
      "outputs": [
        {
          "output_type": "display_data",
          "data": {
            "image/png": "[encoded data removed]",
            "text/plain": [
              "<Figure size 432x288 with 1 Axes>"
            ]
          },
          "metadata": {
            "tags": []
          }
        },
        {
          "output_type": "stream",
          "text": [
            "100%|██████████| 23988/23988 [3:48:45<00:00,  1.75it/s]\n"
          ],
          "name": "stderr"
        },
        {
          "output_type": "display_data",
          "data": {
            "image/png": "[encoded data removed]",
            "text/plain": [
              "<Figure size 432x288 with 1 Axes>"
            ]
          },
          "metadata": {
            "tags": [],
            "needs_background": "light"
          }
        }
      ]
    },
    {
      "cell_type": "code",
      "metadata": {
        "id": "VvO8njqWcUKi",
        "colab_type": "code",
        "colab": {
          "base_uri": "https://localhost:8080/",
          "height": 34
        },
        "outputId": "bb8589c8-457b-4007-e291-22d62fe69106"
      },
      "source": [
        "len(house)*2"
      ],
      "execution_count": null,
      "outputs": [
        {
          "output_type": "execute_result",
          "data": {
            "text/plain": [
              "6426"
            ]
          },
          "metadata": {
            "tags": []
          },
          "execution_count": 16
        }
      ]
    },
    {
      "cell_type": "code",
      "metadata": {
        "id": "M5S-KyHNa56F",
        "colab_type": "code",
        "colab": {
          "base_uri": "https://localhost:8080/",
          "height": 34
        },
        "outputId": "52d25d9d-f85e-4c70-e7e7-78e5dbc4d319"
      },
      "source": [
        "song, ins = get_encoded_song( 7, 'drums')\n",
        "len(ins)/120\n",
        "\n",
        "\n"
      ],
      "execution_count": null,
      "outputs": [
        {
          "output_type": "execute_result",
          "data": {
            "text/plain": [
              "3.0"
            ]
          },
          "metadata": {
            "tags": []
          },
          "execution_count": 20
        }
      ]
    },
    {
      "cell_type": "code",
      "metadata": {
        "id": "rKXQGpH0ePT2",
        "colab_type": "code",
        "colab": {
          "base_uri": "https://localhost:8080/",
          "height": 34
        },
        "outputId": "2dd62f45-1992-4549-c966-bc8575e10229"
      },
      "source": [
        "x_batch, y_batch = get_batchF(song, ins, 2)\n",
        "y_batch[105,120]"
      ],
      "execution_count": null,
      "outputs": [
        {
          "output_type": "execute_result",
          "data": {
            "text/plain": [
              "0.0"
            ]
          },
          "metadata": {
            "tags": []
          },
          "execution_count": 81
        }
      ]
    },
    {
      "cell_type": "code",
      "metadata": {
        "id": "PWnRstijfl0b",
        "colab_type": "code",
        "colab": {}
      },
      "source": [
        "y_batch[y_batch > 200] = 200"
      ],
      "execution_count": null,
      "outputs": []
    },
    {
      "cell_type": "code",
      "metadata": {
        "id": "cwZ8xGNPfxax",
        "colab_type": "code",
        "colab": {}
      },
      "source": [
        "y_batch[y_batch < 0] = 0"
      ],
      "execution_count": null,
      "outputs": []
    },
    {
      "cell_type": "code",
      "metadata": {
        "id": "ReHsGBUMf0nQ",
        "colab_type": "code",
        "colab": {
          "base_uri": "https://localhost:8080/",
          "height": 34
        },
        "outputId": "f54bcfaa-7658-4a4e-8041-1bce7d6a94a0"
      },
      "source": [
        "x_batch[105,120]"
      ],
      "execution_count": null,
      "outputs": [
        {
          "output_type": "execute_result",
          "data": {
            "text/plain": [
              "0.0"
            ]
          },
          "metadata": {
            "tags": []
          },
          "execution_count": 84
        }
      ]
    },
    {
      "cell_type": "code",
      "metadata": {
        "id": "qQOmrCfdjHEo",
        "colab_type": "code",
        "colab": {}
      },
      "source": [
        ""
      ],
      "execution_count": null,
      "outputs": []
    }
  ]
}